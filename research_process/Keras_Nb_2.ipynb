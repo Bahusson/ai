{
 "cells": [
  {
   "cell_type": "markdown",
   "metadata": {},
   "source": [
    "### Zeszyt do testów\n",
    "W tym miejscu ładujemy uprzednio zapisany model i go odczytujemy. :)"
   ]
  },
  {
   "cell_type": "code",
   "execution_count": 8,
   "metadata": {},
   "outputs": [],
   "source": [
    "from keras.preprocessing.image import ImageDataGenerator\n",
    "from keras.models import Sequential\n",
    "from keras.layers import Conv2D, MaxPooling2D\n",
    "from keras.layers import Activation, Dropout, Flatten, Dense\n",
    "from keras import backend as K"
   ]
  },
  {
   "cell_type": "code",
   "execution_count": 2,
   "metadata": {},
   "outputs": [],
   "source": [
    "from keras.models import load_model\n",
    "\n",
    "classifier = load_model('/home/SpookyProgrammer/tensorxp/git/ai/research_process/trainedmodels/simple_chars_10.h5')"
   ]
  },
  {
   "cell_type": "code",
   "execution_count": 11,
   "metadata": {},
   "outputs": [
    {
     "name": "stdout",
     "output_type": "stream",
     "text": [
      "Found 70 images belonging to 10 classes.\n"
     ]
    }
   ],
   "source": [
    "nb_test_samples = 70           # Liczba próbek testowych\n",
    "img_width, img_height = 28, 28 # Wymiary obrazka w bazie testowej.\n",
    "color_cha = 1                  # Ilość kanałów. W Odcieniach szarości będziesz miał 1, W kolorze (RGB) będziesz miał 3.\n",
    "test_data_dir = 'data/test'    # lokalizacja bazy testowej\n",
    "batch_size = 10\n",
    "\n",
    "# Ten fragment odczytuje z obrazków w jakim formacie są zapisane kanały kodowania kolorów.\n",
    "if K.image_data_format() == 'channels_first':\n",
    "    input_shape = (color_cha, img_width, img_height)\n",
    "else:\n",
    "    input_shape = (img_width, img_height, color_cha)\n",
    "\n",
    "test_datagen = ImageDataGenerator(rescale = 1. / 255) # Normalizacja obrazków.\n",
    "\n",
    "test_generator = test_datagen.flow_from_directory(\n",
    "    test_data_dir,\n",
    "    target_size=(img_width, img_height),\n",
    "    color_mode='grayscale',\n",
    "    class_mode='categorical')"
   ]
  },
  {
   "cell_type": "code",
   "execution_count": 14,
   "metadata": {},
   "outputs": [
    {
     "name": "stdout",
     "output_type": "stream",
     "text": [
      "Loss:  0.0049010009990820965 Accuracy:  100%\n"
     ]
    }
   ],
   "source": [
    "# Oceniamy model na danych testowych.\n",
    "score = classifier.evaluate_generator(test_generator, nb_test_samples/batch_size, workers=12)\n",
    "print(\"Loss: \", score[0], \"Accuracy: \", str(int(score[1])*100) + \"%\")"
   ]
  },
  {
   "cell_type": "code",
   "execution_count": null,
   "metadata": {},
   "outputs": [],
   "source": []
  }
 ],
 "metadata": {
  "kernelspec": {
   "display_name": "Python 3",
   "language": "python",
   "name": "python3"
  },
  "language_info": {
   "codemirror_mode": {
    "name": "ipython",
    "version": 3
   },
   "file_extension": ".py",
   "mimetype": "text/x-python",
   "name": "python",
   "nbconvert_exporter": "python",
   "pygments_lexer": "ipython3",
   "version": "3.6.7"
  }
 },
 "nbformat": 4,
 "nbformat_minor": 2
}
