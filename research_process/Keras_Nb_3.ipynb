{
 "cells": [
  {
   "cell_type": "markdown",
   "metadata": {},
   "source": [
    "# Sekwencyjny model CNN z Keras i bazą CIFAR10\n",
    "W tym zeszycie używam bazy danych CIFAR10\n",
    "\n",
    "Tym razem kod jest dla maszyny ze wsparcien GPU, ponieważ udało mi się wreszcie nabyć karty obsługujące technologię CUDA - ogólnie rzecz biorąc na chwilę obecną zajmuje się tym chyba wyłącznie NVIDIA, ale konkurencja nie śpi, także polecam się w razie czego rozejrzeć."
   ]
  },
  {
   "cell_type": "code",
   "execution_count": 1,
   "metadata": {},
   "outputs": [
    {
     "name": "stderr",
     "output_type": "stream",
     "text": [
      "Using TensorFlow backend.\n"
     ]
    }
   ],
   "source": [
    "# Nie musisz mówić Kerasowi, że ma używać GPU. Sam się połapie. \n",
    "# Jak na razie to najlepszy model jaki udało mi się zrobić. W 5 epok wyciąga około 75% bez overfittingu.\n",
    "\n",
    "import keras\n",
    "from keras.datasets import cifar10\n",
    "from keras.preprocessing.image import ImageDataGenerator\n",
    "#from keras.callbacks import TensorBoard\n",
    "from keras.models import Sequential\n",
    "from keras.layers import Conv2D, MaxPooling2D\n",
    "from keras.layers import Activation, Dropout, Flatten, Dense\n",
    "from keras.models import load_model\n",
    "import os\n"
   ]
  },
  {
   "cell_type": "code",
   "execution_count": 2,
   "metadata": {},
   "outputs": [
    {
     "name": "stdout",
     "output_type": "stream",
     "text": [
      "x_train shape:  (50000, 32, 32, 3)\n",
      "50000 train samples\n",
      "10000 test samples\n"
     ]
    }
   ],
   "source": [
    "# Podstawowe zmienne wyciągnięte na wierzch\n",
    "batch_size = 32 # 16 dla dużych obrazków - 32 dla większych bo inaczej Ci się Kernel w Jupyterze zcrashuje.\n",
    "num_classes = 10 # Ilość kategorii - CIFAR ma 10. Dwa pojazdy i 8 zwierząt.\n",
    "epochs = 5\n",
    "\n",
    "# Wczytaj CIFAR10 <- Inny sposób ładowania bazy danych - za pomocą x i y a nie wyznaczonych ścieżek jak w Keras_Nb_2\n",
    "(x_train, y_train), (x_test, y_test) = cifar10.load_data()\n",
    "\n",
    "# Zwizualizuj wymiary(kształt) naszych danych\n",
    "print('x_train shape: ', x_train.shape)\n",
    "print(x_train.shape[0], 'train samples')\n",
    "print(x_test.shape[0], 'test samples')\n",
    "\n",
    "# Sformatuj dane poprzez Normalizację i zmianę typów\n",
    "x_train = x_train.astype('float32')\n",
    "x_test = x_test.astype('float32')\n",
    "x_train /= 255\n",
    "x_test /= 255\n",
    "\n",
    "# One-hot encoding\n",
    "y_train = keras.utils.to_categorical(y_train, num_classes)\n",
    "y_test = keras.utils.to_categorical(y_test, num_classes)\n"
   ]
  },
  {
   "cell_type": "code",
   "execution_count": 3,
   "metadata": {},
   "outputs": [
    {
     "name": "stdout",
     "output_type": "stream",
     "text": [
      "_________________________________________________________________\n",
      "Layer (type)                 Output Shape              Param #   \n",
      "=================================================================\n",
      "conv2d_1 (Conv2D)            (None, 32, 32, 32)        896       \n",
      "_________________________________________________________________\n",
      "activation_1 (Activation)    (None, 32, 32, 32)        0         \n",
      "_________________________________________________________________\n",
      "conv2d_2 (Conv2D)            (None, 30, 30, 32)        9248      \n",
      "_________________________________________________________________\n",
      "activation_2 (Activation)    (None, 30, 30, 32)        0         \n",
      "_________________________________________________________________\n",
      "max_pooling2d_1 (MaxPooling2 (None, 15, 15, 32)        0         \n",
      "_________________________________________________________________\n",
      "dropout_1 (Dropout)          (None, 15, 15, 32)        0         \n",
      "_________________________________________________________________\n",
      "conv2d_3 (Conv2D)            (None, 15, 15, 64)        18496     \n",
      "_________________________________________________________________\n",
      "activation_3 (Activation)    (None, 15, 15, 64)        0         \n",
      "_________________________________________________________________\n",
      "conv2d_4 (Conv2D)            (None, 13, 13, 64)        36928     \n",
      "_________________________________________________________________\n",
      "activation_4 (Activation)    (None, 13, 13, 64)        0         \n",
      "_________________________________________________________________\n",
      "max_pooling2d_2 (MaxPooling2 (None, 6, 6, 64)          0         \n",
      "_________________________________________________________________\n",
      "dropout_2 (Dropout)          (None, 6, 6, 64)          0         \n",
      "_________________________________________________________________\n",
      "flatten_1 (Flatten)          (None, 2304)              0         \n",
      "_________________________________________________________________\n",
      "dense_1 (Dense)              (None, 2048)              4720640   \n",
      "_________________________________________________________________\n",
      "dropout_3 (Dropout)          (None, 2048)              0         \n",
      "_________________________________________________________________\n",
      "dense_2 (Dense)              (None, 10)                20490     \n",
      "_________________________________________________________________\n",
      "activation_5 (Activation)    (None, 10)                0         \n",
      "=================================================================\n",
      "Total params: 4,806,698\n",
      "Trainable params: 4,806,698\n",
      "Non-trainable params: 0\n",
      "_________________________________________________________________\n",
      "None\n"
     ]
    }
   ],
   "source": [
    "# Zauważ różnicę w sposobie dodawania aktywacji (poza warstwą). Nie jest to niewłaściwe. Po prostu tak też można. :)\n",
    "model = Sequential()\n",
    "# Padding = 'same' powoduje wyrównanie wejść i wyjść do tej samej długości.\n",
    "model.add(Conv2D(32, (3, 3), padding='same',\n",
    "                 input_shape=x_train.shape[1:]))\n",
    "model.add(Activation('relu')) \n",
    "model.add(Conv2D(32, (3, 3)))\n",
    "model.add(Activation('relu'))\n",
    "model.add(MaxPooling2D(pool_size=(2, 2)))\n",
    "model.add(Dropout(0.25))  # Wartości dropoutu są chyba najlepsze z możliwych...\n",
    "\n",
    "model.add(Conv2D(64, (3, 3), padding='same')) # Dodawanie warstw lub zmienianie kompozycji (dzielenie na mniejsze) obniża skuteczność modelu. \n",
    "model.add(Activation('relu'))\n",
    "model.add(Conv2D(64, (3, 3)))\n",
    "model.add(Activation('relu'))\n",
    "model.add(MaxPooling2D(pool_size=(2, 2)))\n",
    "model.add(Dropout(0.35)) \n",
    "          \n",
    "model.add(Flatten())\n",
    "model.add(Dense(2048, activation='relu')) # Zacząłem od 512. Lepiej przy 2048. Więcej nie ma sensu a wręcz spada.\n",
    "model.add(Dropout(0.5)) # Nie dawaj wyższych wartości końcowych 'dropout' niż 0.5, chyba, że wiesz co robisz...\n",
    "\n",
    "# Sposób aktywacji ostatniej warstwy inny niż na przykładzie wyjściowym, \n",
    "# bo mam 10 kategorii, więc lepiej wziąć softmax. Dla dwóch końcowych (albo-albo) byłby Sigmoid.\n",
    "model.add(Dense(num_classes))\n",
    "model.add(Activation('softmax'))\n",
    "\n",
    "#Tutaj warto poeksperymentować z metodą optymalizacji:          \n",
    "#opt = keras.optimizers.rmsprop(lr=0.0001, decay=1e-6) <= Adam jest jak zwykle lepszy...\n",
    "opt = 'adam'          \n",
    "\n",
    "# Sposób kalkulowania straty. Właściwy dla 10 kategorii.\n",
    "model.compile(loss = 'categorical_crossentropy',\n",
    "              optimizer = opt,\n",
    "              metrics = ['accuracy'])\n",
    "\n",
    "print(model.summary())\n",
    "\n"
   ]
  },
  {
   "cell_type": "code",
   "execution_count": 4,
   "metadata": {},
   "outputs": [
    {
     "name": "stdout",
     "output_type": "stream",
     "text": [
      "Train on 50000 samples, validate on 10000 samples\n",
      "Epoch 1/5\n",
      "50000/50000 [==============================] - 14s 290us/step - loss: 1.4377 - acc: 0.4782 - val_loss: 1.0963 - val_acc: 0.6129\n",
      "Epoch 2/5\n",
      "50000/50000 [==============================] - 12s 246us/step - loss: 1.0608 - acc: 0.6235 - val_loss: 0.8892 - val_acc: 0.6937\n",
      "Epoch 3/5\n",
      "50000/50000 [==============================] - 12s 247us/step - loss: 0.9093 - acc: 0.6801 - val_loss: 0.7867 - val_acc: 0.7240\n",
      "Epoch 4/5\n",
      "50000/50000 [==============================] - 12s 247us/step - loss: 0.8147 - acc: 0.7141 - val_loss: 0.7583 - val_acc: 0.7381\n",
      "Epoch 5/5\n",
      "50000/50000 [==============================] - 12s 247us/step - loss: 0.7552 - acc: 0.7362 - val_loss: 0.7221 - val_acc: 0.7495\n",
      "10000/10000 [==============================] - 0s 49us/step\n",
      "Test loss:  0.7221145270347595\n",
      "Test accuracy:  0.7495\n"
     ]
    }
   ],
   "source": [
    "# Trening modelu\n",
    "history = model.fit(x_train, y_train,\n",
    "    batch_size = batch_size,\n",
    "    epochs=epochs,\n",
    "    validation_data=(x_test, y_test),\n",
    "    shuffle=True)\n",
    "    \n",
    "model.save(\"/home/g-man/repozytoria/ai/research_process/trainedmodels/cifar_cnn_3.h5\")\n",
    "\n",
    "# Ewaluacja modelu\n",
    "scores = model.evaluate(x_test, y_test, verbose=1)\n",
    "print('Test loss: ', scores[0])\n",
    "print('Test accuracy: ', scores[1])\n"
   ]
  },
  {
   "cell_type": "markdown",
   "metadata": {},
   "source": [
    "## Wizualizacja uczenia się modelu\n",
    "Zobaczymy czy, na ile i w którym miejscu mamy overfitting"
   ]
  },
  {
   "cell_type": "code",
   "execution_count": 8,
   "metadata": {},
   "outputs": [
    {
     "data": {
      "image/png": "[encoded data removed]",
      "text/plain": [
       "<Figure size 432x288 with 1 Axes>"
      ]
     },
     "metadata": {
      "needs_background": "light"
     },
     "output_type": "display_data"
    }
   ],
   "source": [
    "import matplotlib.pyplot as plt\n",
    "\n",
    "history_dict = history.history\n",
    "\n",
    "loss_values = history_dict['loss']\n",
    "val_loss_values = history_dict['val_loss']\n",
    "epochs = range(1, len(loss_values) + 1)\n",
    "\n",
    "line1 = plt.plot(epochs, val_loss_values, label='Validation/Test Loss')\n",
    "line2 = plt.plot(epochs, loss_values, label='Training loss')\n",
    "plt.setp(line1, linewidth=2.0, marker = '+', markersize=10.0)\n",
    "plt.setp(line2, linewidth=2.0, marker = '4', markersize=10.0)\n",
    "plt.xlabel('Epochs')\n",
    "plt.ylabel('Loss')\n",
    "plt.grid(True)\n",
    "plt.legend()\n",
    "plt.show()\n",
    "#Poniżej funkcja straty w czasie dla powyższego modelu."
   ]
  },
  {
   "cell_type": "code",
   "execution_count": 7,
   "metadata": {},
   "outputs": [
    {
     "data": {
      "image/png": "[encoded data removed]",
      "text/plain": [
       "<Figure size 432x288 with 1 Axes>"
      ]
     },
     "metadata": {
      "needs_background": "light"
     },
     "output_type": "display_data"
    }
   ],
   "source": [
    "import matplotlib.pyplot as plt\n",
    "\n",
    "history_dict = history.history\n",
    "\n",
    "acc_values = history_dict['acc']\n",
    "val_acc_values = history_dict['val_acc']\n",
    "epochs = range(1, len(acc_values) + 1)\n",
    "\n",
    "line1 = plt.plot(epochs, val_acc_values, label='Validation/Test Accuracy')\n",
    "line2 = plt.plot(epochs, acc_values, label='Training Accuracy')\n",
    "plt.setp(line1, linewidth=2.0, marker = '+', markersize=10.0)\n",
    "plt.setp(line2, linewidth=2.0, marker = '4', markersize=10.0)\n",
    "plt.xlabel('Epochs')\n",
    "plt.ylabel('Accuracy')\n",
    "plt.grid(True)\n",
    "plt.legend()\n",
    "plt.show()\n",
    "# Poniżej trafność w czasie dla powyższego modelu."
   ]
  },
  {
   "cell_type": "markdown",
   "metadata": {},
   "source": [
    "## Zapisujemy nasz model\n",
    "Zmień na pełną ścieżkę docelową na swoim komputerze.\n",
    "Uważaj, żeby folder faktycznie istniał, bo program nie stworzy ścieżek automatycznie."
   ]
  },
  {
   "cell_type": "code",
   "execution_count": 14,
   "metadata": {},
   "outputs": [
    {
     "name": "stdout",
     "output_type": "stream",
     "text": [
      "Model Saved\n"
     ]
    }
   ],
   "source": [
    "model.save(\"/home/g-man/repozytoria/ai/research_process/trainedmodels/cifar_cnn2.h5\")\n",
    "print('Model Saved')"
   ]
  },
  {
   "cell_type": "markdown",
   "metadata": {},
   "source": [
    "## Wczytujemy model\n",
    "To trochę bardziej skomplikowane, bo Keras musi teraz wszystko rozpakować."
   ]
  },
  {
   "cell_type": "code",
   "execution_count": 15,
   "metadata": {},
   "outputs": [],
   "source": [
    "from keras.models import load_model\n",
    "\n",
    "classifier = load_model('/home/g-man/repozytoria/ai/research_process/trainedmodels/cifar_cnn2.h5')"
   ]
  },
  {
   "cell_type": "markdown",
   "metadata": {},
   "source": [
    "## Testujemy Model"
   ]
  },
  {
   "cell_type": "code",
   "execution_count": null,
   "metadata": {},
   "outputs": [],
   "source": [
    "import cv2\n",
    "import numpy as np\n",
    "from keras.models import load_model\n",
    "\n",
    "img_row, img_height, img_depth = 32, 32, 3\n",
    "classifier = load_model(\"/home/g-man/repozytoria/ai/research_process/trainedmodels/cifar_cnn_2.h5\")\n",
    "color = True\n",
    "scale = 8\n",
    "\n",
    "def draw_test(name, res, input_im, scale, img_row, img_height):\n",
    "    BLACK = [0,0,0]\n",
    "    res = int(res)\n",
    "    if res == 0:\n",
    "        pred = 'samolot'\n",
    "    if res == 1:\n",
    "        pred = 'samochod'\n",
    "    if res == 2:\n",
    "        pred = 'ptak'\n",
    "    if res == 3:\n",
    "        pred = 'kot'\n",
    "    if res == 4:\n",
    "        pred = 'jelen'\n",
    "    if res == 5:\n",
    "        pred = 'pies'        \n",
    "    if res == 6:\n",
    "        pred = 'zaba'\n",
    "    if res == 7:\n",
    "        pred = 'kon'        \n",
    "    if res == 8:\n",
    "        pred = 'statek'\n",
    "    if res == 9:\n",
    "        pred = 'ciezarowka'        \n",
    "        \n",
    "    expanded_image = cv2.copyMakeBorder(input_im, 0, 0, 0, imageL.shape[0]*2 ,cv2.BORDER_CONSTANT,value=BLACK)\n",
    "    if color == False:\n",
    "        expanded_image = cv2.cvtColor(expanded_image, cv2.COLOR_GRAY2BGR)\n",
    "    cv2.putText(expanded_image, str(pred), (300,80) , cv2.FONT_HERSHEY_COMPLEX_SMALL,3, (0,255,0), 2)\n",
    "    cv2.imshow(name, expanded_image)\n",
    "    \n",
    "for i in range(0,10):\n",
    "    rand = np.random.randint(0,len(x_test))\n",
    "    input_im = x_test[rand]\n",
    "    imageL = cv2.resize(input_im, None, fx=scale, fy=scale, interpolation = cv2.INTER_CUBIC)\n",
    "    input_im = input_im.reshape(1,img_row, img_height, img_depth)\n",
    "    \n",
    "    # Opisuje co widzi\n",
    "    res = str(classifier.predict_classes(input_im, 1 , verbose = 0)[0])\n",
    "    \n",
    "    draw_test(\"Prediction\", res, imageL, scale, img_row, img_height)\n",
    "    cv2.waitKey(0)\n",
    "    \n",
    "cv2.destroyAllWindows()\n",
    "    "
   ]
  },
  {
   "cell_type": "code",
   "execution_count": null,
   "metadata": {},
   "outputs": [],
   "source": []
  }
 ],
 "metadata": {
  "kernelspec": {
   "display_name": "Python 3",
   "language": "python",
   "name": "python3"
  },
  "language_info": {
   "codemirror_mode": {
    "name": "ipython",
    "version": 3
   },
   "file_extension": ".py",
   "mimetype": "text/x-python",
   "name": "python",
   "nbconvert_exporter": "python",
   "pygments_lexer": "ipython3",
   "version": "3.6.8"
  }
 },
 "nbformat": 4,
 "nbformat_minor": 2
}
