{
 "cells": [
  {
   "cell_type": "code",
   "execution_count": 1,
   "metadata": {},
   "outputs": [],
   "source": [
    "import numpy as np\n",
    "import matplotlib.pyplot as plt\n",
    "import tensorflow as tf"
   ]
  },
  {
   "cell_type": "code",
   "execution_count": 2,
   "metadata": {},
   "outputs": [],
   "source": [
    "### PANEL GŁÓWNY Numpy ### - Zmienne niezbędne dla wykonania zbioru danych przez Numpy biorą się stąd. \n",
    "# Szczegóły słabiej opisanych - zeszyt kursowy 1\n",
    "\n",
    "observations = 1000  # Ustaw ilość obserwacji (Startowa: 1000)\n",
    "vnum = 1             # Liczba zmiennych\n",
    "noic = 10            # Szum w bazie przypadków treningowych.\n",
    "noit = 1             # Szum wygenerowany dla funkcji testującej (docelowej).\n",
    "model = [13,7,-12]   # Parametry modelu losowego dla funkcji a*xs + b*xz + c + szum."
   ]
  },
  {
   "cell_type": "markdown",
   "metadata": {},
   "source": [
    "#### 1. Tworzenie i składowanie danych"
   ]
  },
  {
   "cell_type": "code",
   "execution_count": 3,
   "metadata": {},
   "outputs": [],
   "source": [
    "xs = np.random.uniform(low = -noic, high = noic, size =(observations,vnum)) # Gen. zakr. los. zm. wej.(patrz zeszyt 1)\n",
    "zs = np.random.uniform(-noic,noic,(observations,vnum)) # J.w.- bez opisów bo zbędne. Poz. dla orientacji.\n",
    "\n",
    "generated_inputs = np.column_stack((xs,zs)) # Składanie z pow. matrycy w formacie observationsx2. (Patrz zeszyt 1)\n",
    "\n",
    "noise = np.random.uniform(-noit,noit,(observations,1)) # Gen. zakr. los. (Patrz zeszyt 1)\n",
    "\n",
    "generated_targets = model[0]*xs + model[1]*zs + model[2] + noise # Funkcja symulująca zadane cele. Do niej dąży model. (Patrz zeszyt 1)\n",
    "\n",
    "np.savez('My_Nums', inputs = generated_inputs, targets = generated_targets) # Tworzy plik My_Nums.npz w tym samym miejscu co ten zeszyt. \n",
    "# Zawiera podane matryce w formie ndarray, co dla obsługi TF jest bardzo wygodne."
   ]
  },
  {
   "cell_type": "markdown",
   "metadata": {},
   "source": [
    "### 2. Tutaj zaczyna się TensorFlow\n",
    "Uwaga odnośnie używania TF - obiekty TF nie wykonują się same.\n",
    "Trzeba im wydać konkretne polecenie. \n",
    "\n",
    "Jeśli chcesz na to spojrzeć z innej strony, \n",
    "to zeszyt badawczy 2a zawiera opis i przykłady poszczególnych elementów TF."
   ]
  },
  {
   "cell_type": "code",
   "execution_count": 4,
   "metadata": {},
   "outputs": [],
   "source": [
    "### Panel Główny TF ### - tutaj będę wyciągał zmienne dla modelu TF,\n",
    "# żeby było jasne co jest do czego. Normalnie wszystkie zmienne,\n",
    "# którymi miałbym potencjalnie poźniej manipulować zbieram dla porządku 1 miejscu.\n",
    "\n",
    "input_size = 2       # Ilość zmiennych wejściowych - tutaj mamy dwie (x,z)\n",
    "output_size = 1      # Nasza funkcja ma jedno wyjście - y.\n",
    "iterations = 100     # Wyciągnięta na panel ilość iteracji. Zasada jak w zeszycie 1. (Startowa: 100)\n",
    "lr = 0.02            # Ustaw prędkość uczenia się (Startowa 0.02)\n",
    "loss_switch = True   # Przełącznik funkcji celowej. Jeśli True to Euklidesowa, jeśli False, Hubera. (patrz pkt. 4)"
   ]
  },
  {
   "cell_type": "markdown",
   "metadata": {},
   "source": [
    "#### 3. Rysujemy model"
   ]
  },
  {
   "cell_type": "code",
   "execution_count": 5,
   "metadata": {},
   "outputs": [],
   "source": [
    "# Tworzy podstawnik do którego będziemy podstawiać dane wejściowe z naszego zbioru danych w pliku npz.\n",
    "# 'float32' to miara precyzji (32bit) - standard dla Pythona to float64, ale tyle na ogół wystarczy.\n",
    "# W nawiasie kwadratowym znajdują się wymiary podstawianych matryc. 'None' jest w pierwszym nie dlatego,\n",
    "# że nasze dane nie mają pierwszego wymiaru (tj. ilość rekordów), ale że nie musimy tego określać.\n",
    "# To przydatne, bo nie trzeba dzięki temu znać dokładnej ilości obserwacji ani pisać odpowiedniego kodu samemu.\n",
    "# Ważne jedynie, żeby podać ilość zmiennych wejściowych (input_size) i wyjściowych (output_size).\n",
    "inputs = tf.placeholder(tf.float32,[None,input_size])\n",
    "# Podstawnik gdzie podamy funkcji dane testowe (cele) - jest w tym samym kształcie co dane wyjściowe,\n",
    "# więc korzystamy ze zmiennej opisującej ilość zmiennych wyjściowych (output_size).\n",
    "targets = tf.placeholder(tf.float32,[None,output_size])\n",
    "\n",
    "### To były podstawniki. Zauważ, że pomiędzy iteracjami nie zachowują one swojej wartości. Są one dla TF\n",
    "### tymczasową zmienną zewnętrzną z której czerpie dane. Do dalszego działania będziemy potrzebować zmiennych.\n",
    "### Zwróć uwagę gdzie w TensorFlow są wielkie litery jak na przykład w tf.Variable. To Ci oszczędzi stresów.\n",
    "\n",
    "# Tworzymy zmienne gdzie model będzie zwracał Wagi (weights) i Obciążenia (biases). Metoda tf.random działa\n",
    "# w sposób podobny do tego co stworzyliśmy na poprzednim arkuszu (zmienna 'init_range'). Szczegółowo o niej później.\n",
    "# Kształty zmiennych są rzecz jasne takie same jak w zeszycie 1, bo wynikają z tej samej logiki.\n",
    "weights = tf.Variable(tf.random_uniform([input_size,output_size], minval=-0.1, maxval = 0.1))\n",
    "biases = tf.Variable(tf.random_uniform([output_size], minval=-0.1, maxval = 0.1))\n",
    "\n",
    "# Tworzymy zmienne wyjściowe. Metoda tf.matmul działa na podobnej zasadzie do użytego w zeszycie 1\n",
    "# Iloczynu Skalarnego (metoda np.dot - ang. \"dot product\"), ale jest zgeneralizowana do tensorów.\n",
    "# Tak samo w nawiasie wstawiamy tam to co chcemy przez siebie przemnożyć.\n",
    "outputs = tf.matmul(inputs,weights) + biases"
   ]
  },
  {
   "cell_type": "markdown",
   "metadata": {},
   "source": [
    "#### 4. Deklaracja Funkcji Celu*, oraz metody optymalizacji\n",
    "\n",
    "\n",
    "*in. f. straty [podobnej 'L2' użyliśmy w zeszycie 1] - ang. Objective Function\n",
    "\n",
    "Więcej w temacie Funkcji Celu pod: https://pl.wikipedia.org/wiki/Funkcja_celowa"
   ]
  },
  {
   "cell_type": "code",
   "execution_count": 6,
   "metadata": {},
   "outputs": [],
   "source": [
    "# Deklarujemy strukturę funkcji straty dla normy L2 tak jak w Zeszycie 1.\n",
    "# W TF jest biblioteka takich funkcji 'tf.losses' z której wybieramy\n",
    "# interesującą nas norma L2 (euklidesowa**) jest tam pod hasłem 'mean_squared_error'.\n",
    "# Atrybutem pierwszym jest 'labels' reprezentujące klucz prawidłowych odpowiedzi dla uczenia się\n",
    "# funkcji. Np \"1\" jeśli na danym \"obrazku\" widnieje \"1\" a funkcja ma kilka odpowiedzi do wyboru.\n",
    "# Drugi atrybut to 'predictions' - logicznie są to dane wyjściowe, czyli wyniki zgadywania naszego modelu.\n",
    "# Kropka po cyfrze 2 jest tam celowo, żeby na pewno otrzymać w wyniku liczbę typu float.\n",
    "if loss_switch is True:\n",
    "    mean_loss = tf.losses.mean_squared_error(labels=targets, predictions=outputs) / 2.\n",
    "    # Funkcja Euklidesowa (\"czystsze\" dane, bez 'obserwacji_odstających')\n",
    "else:                                                                               \n",
    "    mean_loss = tf.losses.huber_loss(labels=targets, predictions=outputs) / 2.         \n",
    "    # Funkcja Hubera (dobrze radzi sobie z 'odstającymi' obserwacjami w danych)\n",
    "# Ustaw przełącznik 'switch' na panelu TensorFlow na True Jeśli chcesz Euklidesa, lub False, jeśli chcesz Hubera.\n",
    "# Więcej o tym przełączniku dowiesz się jak zjedziesz na sam koniec tego zeszytu."
   ]
  },
  {
   "cell_type": "markdown",
   "metadata": {},
   "source": [
    "** O normach, w tym Euklidesowej: https://pl.wikipedia.org/wiki/Przestrze%C5%84_unormowana"
   ]
  },
  {
   "cell_type": "code",
   "execution_count": 7,
   "metadata": {},
   "outputs": [],
   "source": [
    "# Deklarujemy metodę optymalizacji (treningu) funkcji. Z zasobów metod 'tf.train' wybieramy tę co ostatnio\n",
    "# czyli metodę gradientu prostego** (GradientDescentOptimizer), oraz ustalamy tempo uczenia się modelu (learning_rate)\n",
    "# Do podfunkcji '.minimize' podstawiamy ustaloną wyżej funkcję straty (mean_loss).\n",
    "optimize = tf.train.GradientDescentOptimizer(learning_rate=lr).minimize(mean_loss)"
   ]
  },
  {
   "cell_type": "markdown",
   "metadata": {},
   "source": [
    "** O Metodzie gradientu prostego: https://pl.wikipedia.org/wiki/Metoda_gradientu_prostego"
   ]
  },
  {
   "cell_type": "markdown",
   "metadata": {},
   "source": [
    "#### 5. Przygotowanie do wykonywania zmiennych"
   ]
  },
  {
   "cell_type": "code",
   "execution_count": 8,
   "metadata": {},
   "outputs": [],
   "source": [
    "# Kanonicznie 'sess' jest zmienną, którą nazywa się sesję TF. Tak jak w Klasach używa się self. Dla klarowności.\n",
    "# Obiekty biblioteki tf nie podlegają automatycznemu wykonywaniu wynikającemu z kolejności jak to bywa w Pythonie.\n",
    "# Jest to użyteczne ze względu na specyfikę uczenia maszynowego, o czym przekonasz się wkrótce.\n",
    "# Wywołanie sesji jest jednoznaczne z wykonaniem zadań TF. Raz wywołana, sesja jest aktywna do czasu zamknięcia\n",
    "# Bądź też zamyka się automatycznie, jeśli użyjemy jej w odpowiedniej strukturze (Zeszyt badań 2a)\n",
    "sess = tf.InteractiveSession()"
   ]
  },
  {
   "cell_type": "markdown",
   "metadata": {},
   "source": [
    "#### 6. Inicjalizacja zmiennych"
   ]
  },
  {
   "cell_type": "code",
   "execution_count": 9,
   "metadata": {},
   "outputs": [],
   "source": [
    "# To jest ta klasyczna część właściwie każdego skryptu TF - Inicjalizator zmiennych\n",
    "# W poprzednich wersjach TF nazywał się inaczej, jednak działa tak samo. (por. Zeszyt badań 2)\n",
    "# W tym momencie przypisujemy go do zmiennej 'initializer' żeby łatwiej później go wywołać w sesji.\n",
    "initializer = tf.global_variables_initializer()\n",
    "\n",
    "# W tym miejscu wywołujemy zdefiniowane wcześniej, zainicjowane zmienne.\n",
    "sess.run(initializer)"
   ]
  },
  {
   "cell_type": "markdown",
   "metadata": {},
   "source": [
    "#### 7. Wczytywanie danych treningowych"
   ]
  },
  {
   "cell_type": "code",
   "execution_count": 10,
   "metadata": {},
   "outputs": [],
   "source": [
    "# Przypisujemy wygenerowane wcześniej w NumPy dane w formacie .npz do zmiennej 'training_data'\n",
    "# za pomocą np.load - zauważ, że to co NumPy kodował, teraz rozkodowuje.\n",
    "# Ta metoda ładuje plik z tego samego miejsca w którym znajduje się skrypt,\n",
    "# chyba, że podasz inną ścieżkę.\n",
    "training_data = np.load('My_Nums.npz')"
   ]
  },
  {
   "cell_type": "markdown",
   "metadata": {},
   "source": [
    "#### 8. Uczenie modelu"
   ]
  },
  {
   "cell_type": "code",
   "execution_count": 11,
   "metadata": {},
   "outputs": [
    {
     "name": "stdout",
     "output_type": "stream",
     "text": [
      "3712.349\n",
      "470.26535\n",
      "110.02011\n",
      "67.95791\n",
      "61.110386\n",
      "58.237835\n",
      "55.888\n",
      "53.676384\n",
      "51.557323\n",
      "49.522694\n",
      "47.568695\n",
      "45.692062\n",
      "43.88974\n",
      "42.15879\n",
      "40.49636\n",
      "38.899788\n",
      "37.36637\n",
      "35.89372\n",
      "34.47935\n",
      "33.120983\n",
      "31.81643\n",
      "30.563494\n",
      "29.360176\n",
      "28.204506\n",
      "27.0946\n",
      "26.028625\n",
      "25.004883\n",
      "24.02166\n",
      "23.077347\n",
      "22.170458\n",
      "21.299446\n",
      "20.462954\n",
      "19.659563\n",
      "18.887985\n",
      "18.146948\n",
      "17.435268\n",
      "16.751757\n",
      "16.095308\n",
      "15.464857\n",
      "14.859365\n",
      "14.277842\n",
      "13.719344\n",
      "13.182966\n",
      "12.667822\n",
      "12.173079\n",
      "11.69792\n",
      "11.241574\n",
      "10.803307\n",
      "10.382376\n",
      "9.97813\n",
      "9.589879\n",
      "9.217002\n",
      "8.858886\n",
      "8.514953\n",
      "8.184634\n",
      "7.8673987\n",
      "7.5627217\n",
      "7.27011\n",
      "6.989083\n",
      "6.7191806\n",
      "6.4599733\n",
      "6.211022\n",
      "5.9719286\n",
      "5.742303\n",
      "5.5217686\n",
      "5.3099656\n",
      "5.1065507\n",
      "4.911187\n",
      "4.7235637\n",
      "4.543363\n",
      "4.3703003\n",
      "4.2040906\n",
      "4.044462\n",
      "3.8911572\n",
      "3.7439163\n",
      "3.6025076\n",
      "3.4666953\n",
      "3.336265\n",
      "3.210993\n",
      "3.0906816\n",
      "2.9751413\n",
      "2.8641698\n",
      "2.7575936\n",
      "2.6552372\n",
      "2.5569293\n",
      "2.4625182\n",
      "2.371846\n",
      "2.2847638\n",
      "2.201129\n",
      "2.1208062\n",
      "2.0436628\n",
      "1.969573\n",
      "1.8984184\n",
      "1.8300786\n",
      "1.764449\n",
      "1.7014114\n",
      "1.640875\n",
      "1.5827339\n",
      "1.5268934\n",
      "1.4732661\n"
     ]
    }
   ],
   "source": [
    "# Ustalamy ilość iteracji. Kanonicznie jest to 'e', dla 'epoki' (ang. 'epoch')\n",
    "# Dla maszyny każda kolejna iteracja w której się uczy to właśnie 'epoka'.\n",
    "for e in range(iterations):\n",
    "    # Pętla zwraca wartość dla operacji 'optimize', oraz 'mean_loss' - Patrz. pkt.4 \"Deklaracja Funkcji Celu\",\n",
    "    # dla każdej 'epoki' tzn. 'None' dla 'optimize', do czego stosujemy '_', żeby zignorować tę wartość,\n",
    "    # oraz 'curr_loss' (ang. 'current loss' - aktualna strata) dla funkcji straty 'mean_loss'.\n",
    "    _, curr_loss = sess.run([optimize, mean_loss],\n",
    "                            # Logika sess.run jest taka, że w pierwszym parametrze podstawiamy listę [w, nawiasach_kwadratowych]\n",
    "                            # tych rzeczy, które chcemy, aby zostały wykonane,\n",
    "                           feed_dict = {inputs: training_data['inputs'], targets: training_data['targets']})\n",
    "                            # zaś drugi parametr, feed_dict to słownik z którego czerpie algorytm.\n",
    "                            # Składnia: feed_dict = {podstawnik1 : dane, podstawnik2 : dane},\n",
    "                            # Logika działa tu w naszym wypadku następująco: \"Weż dane opisane jako 'inputs' ze zmiennej training_data\n",
    "                            # i przypisz je do podstawnika 'inputs'. Potem weź dane opisane jako 'targets' ze zmiennej training_data\n",
    "                            # i przypisz je do podstawnika 'targets'. Zmienna training_data to jak pamiętamy nasze dane NumPy (pkt. 7).\n",
    "  \n",
    "    print(curr_loss) #Drukuje listę funkcji celu dla wszystkich epok po kolei, dzięki czemu widzimy jak model się \"uczy\".    "
   ]
  },
  {
   "cell_type": "code",
   "execution_count": 12,
   "metadata": {},
   "outputs": [
    {
     "data": {
      "image/png": "[encoded data removed]",
      "text/plain": [
       "<Figure size 432x288 with 1 Axes>"
      ]
     },
     "metadata": {
      "needs_background": "light"
     },
     "output_type": "display_data"
    }
   ],
   "source": [
    "# Wizualizacja jak w zeszycie 1 dla uwidocznienia zależności. Metoda zmienia się nieco ze względu na użycie TF.\n",
    "# Znowu, normalnie będziemy używać TensorBoard i teraz zwracam to tylko po to, żeby się wizualnie upewnić,\n",
    "# że to ten sam model. Po co TF? Bo więcej elementów pozostaje tutaj takich samych pomiędzy modelami.\n",
    "# No i w NumPy bardziej skomplikowane modele to już zdecydowanie więcej kodu...\n",
    "out = np.squeeze(sess.run([outputs],\n",
    "               feed_dict = {inputs: training_data['inputs']}))\n",
    "# Różnicą jest tutaj użycie metody np.squeeze, która pozwala uzyskać odpowiedni format danych.\n",
    "# Również w wypadku danych wyjściowych, sesja najpierw musi je obliczyć z danych wejściowych,\n",
    "# co widać po zmiennej out.\n",
    "tar = np.squeeze(training_data['targets'])\n",
    "plt.plot(out,tar)\n",
    "plt.xlabel('outputs')\n",
    "plt.ylabel('targets')\n",
    "plt.show()"
   ]
  },
  {
   "cell_type": "code",
   "execution_count": 13,
   "metadata": {},
   "outputs": [],
   "source": [
    "sess.close()"
   ]
  },
  {
   "cell_type": "markdown",
   "metadata": {},
   "source": [
    "1. Pobaw się parametrami - np. zmień bazę rekordów (observations) do 100 000 i zobacz co się stanie.\n",
    "\n",
    "2. Tak jak poprzednio interesującym może być dla Ciebie zmiana prędkości nauki (learning_rate).\n",
    "   Wypróbuj wartości takie jak 0.0001, 0.001, 0.1, 1 itp.\n",
    "\n",
    "3. Zmień funkcję celu. Alternatywą dla funkcji L2 przy regresji liniowej jest funkcja Hubera. Ogólnie rzecz biorąc      \n",
    "jest ona bardziej odpowiednia, gdy w próbce występują przypadki wykraczające znacznie poza skalę (ang. 'outliers'), co w wygenerowanym przez nas zestawie nie miało miejsca, ale w rzeczywiestości się zdarza. Jeśli będziesz mieć do czynienia z takim zestawem może Ci się przydać. Niestety o samej funkcji Hubera dobrego i prostego źródła w polskim internecie nie znalazłem.\n",
    "Dlaczego Huber do skrajności? Bo Norma L2 podnosi wszystkie różnice \"do kwadratu\", co daje takim kwiatkom\n",
    "duży wpływ na wynik, przez co to co nieistotne może wyglądać jak istotne.\n",
    "Odpowiednią składnią do użycia funkcji celowej Hubera jest: tf.losses.huber_loss(labels, predictions).\n",
    "Podstawiłem ją na przełączniku w punkcie 4. Przełącznik jest na panelu TensorFlow.\n",
    "\n",
    "https://pl.wikipedia.org/wiki/Statystyka_odporno%C5%9Bciowa - To jest poniekąd istotne.\n",
    "Po Angielsku szukaj \"Huber Loss\" i \"Robust Regression\" jeśli Cię to interesuje.\n",
    "\n",
    "Ogólnie jak się tym wszystkim pobawisz i przeanalizujesz, to zauważysz, że dobrze jest używać odpowiedniej funkcji do odpowiednio rozdystrybuowanych danych. Fajnie to wygląda w praktyce. A jak już masz silny sprzęt to już na pewno."
   ]
  },
  {
   "cell_type": "code",
   "execution_count": null,
   "metadata": {},
   "outputs": [],
   "source": []
  }
 ],
 "metadata": {
  "kernelspec": {
   "display_name": "Python 3",
   "language": "python",
   "name": "python3"
  },
  "language_info": {
   "codemirror_mode": {
    "name": "ipython",
    "version": 3
   },
   "file_extension": ".py",
   "mimetype": "text/x-python",
   "name": "python",
   "nbconvert_exporter": "python",
   "pygments_lexer": "ipython3",
   "version": "3.6.6"
  }
 },
 "nbformat": 4,
 "nbformat_minor": 2
}
