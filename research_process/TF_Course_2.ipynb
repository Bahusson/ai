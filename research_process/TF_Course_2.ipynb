{
 "cells": [
  {
   "cell_type": "code",
   "execution_count": 1,
   "metadata": {},
   "outputs": [],
   "source": [
    "import numpy as np\n",
    "import matplotlib.pyplot as plt\n",
    "import tensorflow as tf"
   ]
  },
  {
   "cell_type": "code",
   "execution_count": 3,
   "metadata": {},
   "outputs": [],
   "source": [
    "### PANEL GŁÓWNY ### - większość zmiennych wykonywanych w dalszej części kodu bierze się stąd. Szczegóły - zeszyt 1\n",
    "\n",
    "observations = 1000  # Ustaw ilość obserwacji (Startowa: 1000)\n",
    "noic = 10            # Szum w bazie przypadków treningowych.\n",
    "noit = 1             # Szum wygenerowany dla funkcji testującej (docelowej).\n",
    "model = [13,7,-12]   # Parametry modelu losowego dla funkcji a*xs + b*xz + c + szum. Definiujemy tu dwie docelowe wagi i obciążenie do których model ma dążyć.\n",
    "                     # Można też rzecz jasna dłubać przy tym ręcznie, albo wyciągnąć tutaj całą funkcję i potem ją załadować ze zmiennej..."
   ]
  },
  {
   "cell_type": "code",
   "execution_count": 4,
   "metadata": {},
   "outputs": [],
   "source": [
    "xs = np.random.uniform(low = -noic, high = noic, size =(observations,vnum)) # Gen. zakr. los. zm. wej.(patrz zeszyt 1)\n",
    "zs = np.random.uniform(-noic,noic,(observations,vnum)) # J.w.- bez opisów bo zbędne. Poz. dla orientacji.\n",
    "\n",
    "#inputs\n",
    "generated_inputs = np.column_stack((xs,zs)) # Składanie z pow. matrycy w formacie observationsx2. (Patrz zeszyt 1)\n",
    "\n",
    "noise = np.random.uniform(-noit,noit,(observations,1)) # Gen. zakr. los. (Patrz zeszyt 1)\n",
    "\n",
    "generated_targets = model[0]*xs + model[1]*zs + model[2] + noise # Funkcja symulująca zadane cele. Do niej dąży model. (Patrz zeszyt 1)\n",
    "\n",
    "#TF_Intro\n",
    "np.savez('My_Nums', inputs = generated_inputs, targets = generated_targets)"
   ]
  },
  {
   "cell_type": "code",
   "execution_count": null,
   "metadata": {},
   "outputs": [],
   "source": []
  },
  {
   "cell_type": "code",
   "execution_count": null,
   "metadata": {},
   "outputs": [],
   "source": []
  },
  {
   "cell_type": "code",
   "execution_count": null,
   "metadata": {},
   "outputs": [],
   "source": []
  }
 ],
 "metadata": {
  "kernelspec": {
   "display_name": "Python 3",
   "language": "python",
   "name": "python3"
  },
  "language_info": {
   "codemirror_mode": {
    "name": "ipython",
    "version": 3
   },
   "file_extension": ".py",
   "mimetype": "text/x-python",
   "name": "python",
   "nbconvert_exporter": "python",
   "pygments_lexer": "ipython3",
   "version": "3.6.6"
  }
 },
 "nbformat": 4,
 "nbformat_minor": 2
}
