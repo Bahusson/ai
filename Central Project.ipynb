{
 "cells": [
  {
   "cell_type": "code",
   "execution_count": 1,
   "metadata": {},
   "outputs": [],
   "source": [
    "import tensorflow as tf\n",
    "#Deklarujemy, że chcemy używać biblioteki TensorFlow i będziemy się do niej odwoływać pod skróconą nazwą \"tf\".\n",
    "#Here we call TensorFlow library in for later usage."
   ]
  },
  {
   "cell_type": "code",
   "execution_count": 2,
   "metadata": {},
   "outputs": [],
   "source": [
    "#ZMIENNA (inicjowanie)\n",
    "#Creates variable:\n",
    "zero = tf.Variable(0)\n",
    "#Co się tłumaczy: nazwa_zmiennej = tf.Variable(wartość_zmiennej). Pamiętaj o wielkim \"V\"."
   ]
  },
  {
   "cell_type": "code",
   "execution_count": 3,
   "metadata": {},
   "outputs": [],
   "source": [
    "#STAŁA (inicjowanie)\n",
    "#Creates constant:\n",
    "one = tf.constant(1)\n",
    "#Konstrukcja j.w. Stała, jak sama nazwa wskazuje, się nie zmienia, tak więc uważaj gdzie ich używasz..."
   ]
  },
  {
   "cell_type": "code",
   "execution_count": 4,
   "metadata": {},
   "outputs": [],
   "source": [
    "#SUMUJ (metoda)\n",
    "#adds variables, constants\n",
    "new_value = tf.add(zero,one)\n",
    "#W tym przykładzie zsumowaliśmy wartości zmiennej 'zero' i stałej 'jeden'."
   ]
  },
  {
   "cell_type": "code",
   "execution_count": 5,
   "metadata": {},
   "outputs": [],
   "source": [
    "#ZMIEŃ WARTOŚĆ (metoda)\n",
    "#assigns new wvlue to an existing variable.\n",
    "update = tf.assign(zero,new_value)\n",
    "#Dosłownie: nazwa_zmiennej = tf.assign(nazwa_zmiennej_której_wartość_zmieniamy,nowa_wartość). Tu zmienia wartość 'zera' na sumę \"zera\" i \"one\", czyli na 1."
   ]
  },
  {
   "cell_type": "code",
   "execution_count": 6,
   "metadata": {},
   "outputs": [],
   "source": [
    "#Pamiętaj, że Stałe nie podlegają zmianom. Kod, np.:\n",
    "#\"update_constant = tf.assign(one,new_value)\" wywali błąd."
   ]
  },
  {
   "cell_type": "code",
   "execution_count": 7,
   "metadata": {},
   "outputs": [],
   "source": [
    "#Zainicjalizuj_WSZYSTKIE_zmienne\n",
    "init_op = tf.global_variables_initializer()\n",
    "#Zawsze pamiętaj, żeby \"zainicjalizować wszystkie zmienne\"."
   ]
  },
  {
   "cell_type": "code",
   "execution_count": 25,
   "metadata": {},
   "outputs": [],
   "source": [
    "#Definiujemy sesję TF.\n",
    "sess = tf.Session()\n",
    "#Inicjalizujemy zmienne w sesji.\n",
    "sess.run(init_op)\n",
    "#Raz zainicjalizowana sesja jest ciągle AKTYWNA \n",
    "#do zamknięcia odpowiednią metodą 'session.close()'."
   ]
  },
  {
   "cell_type": "code",
   "execution_count": 24,
   "metadata": {},
   "outputs": [
    {
     "name": "stdout",
     "output_type": "stream",
     "text": [
      "0\n"
     ]
    }
   ],
   "source": [
    "#Drukuj stan elementu sesji (?)\n",
    "print(sess.run(zero))"
   ]
  },
  {
   "cell_type": "code",
   "execution_count": null,
   "metadata": {},
   "outputs": [],
   "source": []
  },
  {
   "cell_type": "code",
   "execution_count": 9,
   "metadata": {
    "scrolled": false
   },
   "outputs": [
    {
     "name": "stdout",
     "output_type": "stream",
     "text": [
      "1\n",
      "2\n",
      "3\n",
      "4\n",
      "5\n"
     ]
    }
   ],
   "source": [
    "#FOR - PĘTLA\n",
    "#Przykład jak pisać pętle FOR.\n",
    "for _ in range(5):\n",
    "        sess.run(update)\n",
    "        print(sess.run(zero))\n",
    "#Ta pętla zapętli się 5 razy za każdym razem wypluwając update wartości funkcji."
   ]
  },
  {
   "cell_type": "code",
   "execution_count": 12,
   "metadata": {},
   "outputs": [
    {
     "name": "stdout",
     "output_type": "stream",
     "text": [
      "b'helloworld'\n"
     ]
    }
   ],
   "source": [
    "#Operacje na ciągach znaków.\n",
    "hello = tf.constant('hello')\n",
    "world = tf.constant('world')\n",
    "helloworld = tf.add(hello,world)\n",
    "print(sess.run(helloworld))\n",
    "#Tutaj mamy oczywisty przykład łączenia dwóch stałych ciągów w jeden."
   ]
  },
  {
   "cell_type": "code",
   "execution_count": null,
   "metadata": {},
   "outputs": [],
   "source": []
  },
  {
   "cell_type": "code",
   "execution_count": 20,
   "metadata": {},
   "outputs": [],
   "source": [
    "#PODSTAWNIK\n",
    "#Placeholder\n",
    "a = tf.placeholder(tf.float32)\n",
    "#c = tf.placeholder(tf.rodzaj_podstawnika). W przykładzie jest najpopularniejszy Float32.\n",
    "#Tworzy nowy podstawnik o nazwie \"a\" typu liczby dziesięte.\n"
   ]
  },
  {
   "cell_type": "code",
   "execution_count": 21,
   "metadata": {},
   "outputs": [],
   "source": [
    "b=a*2"
   ]
  },
  {
   "cell_type": "code",
   "execution_count": 22,
   "metadata": {},
   "outputs": [
    {
     "name": "stdout",
     "output_type": "stream",
     "text": [
      "6.0\n"
     ]
    }
   ],
   "source": [
    "#Wstawianie do podstawnika wartości skalarnej. (Wektora/Tensora)\n",
    "#Feeding scalar to placeholder\n",
    "#result=sess.run(b,feed_dict={a:3}) <- lub feed_dict=\"nazwa_zmiennej_słownika\"\n",
    "result=sess.run(b,{a:3})\n",
    "#Podobno obydwie powyższe metody działają tak samo.\n",
    "#feed_dict sprawia po prostu, że kod jest bardziej przejrzysty.\n",
    "print(result)\n",
    "#W tym przykładzie odpalamy w działającej już sesji podstawnik z wartością 'b' dla 'a'=3"
   ]
  },
  {
   "cell_type": "code",
   "execution_count": 26,
   "metadata": {},
   "outputs": [
    {
     "name": "stdout",
     "output_type": "stream",
     "text": [
      "[ 6.  8. 10.]\n"
     ]
    }
   ],
   "source": [
    "#Do podstawnika można też wrzucać wektory.\n",
    "result=sess.run(b,feed_dict={a:[3,4,5]})\n",
    "print(result)"
   ]
  },
  {
   "cell_type": "code",
   "execution_count": 28,
   "metadata": {},
   "outputs": [
    {
     "name": "stdout",
     "output_type": "stream",
     "text": [
      "[[[ 2.  4.  6.]\n",
      "  [ 8. 10. 12.]\n",
      "  [14. 16. 18.]\n",
      "  [20. 22. 24.]]\n",
      "\n",
      " [[26. 28. 30.]\n",
      "  [32. 34. 36.]\n",
      "  [38. 40. 42.]\n",
      "  [44. 46. 48.]]]\n"
     ]
    }
   ],
   "source": [
    "#W tym wektory wielowymiarowe.\n",
    "dictionary={a:[[[1,2,3],[4,5,6],[7,8,9],[10,11,12]],[[13,14,15],[16,17,18],[19,20,21],[22,23,24]]]}\n",
    "#Raczej nie będziemy w ten sposób ręcznie przygotowywać zmiennej, ale założenie właśnie tak wygląda.\n",
    "#Dane będziemy wczytywać do słownika np. z pliku CSV a potem podstawiać jak w przykładzie.\n",
    "result=sess.run(b,feed_dict=dictionary)\n",
    "#Na przykładzie wektor 3x4x2\n",
    "print(result)"
   ]
  },
  {
   "cell_type": "code",
   "execution_count": 29,
   "metadata": {},
   "outputs": [],
   "source": [
    "#ZAMYKANIE SESJI\n",
    "sess.close()\n",
    "#Jeśli tego nie zrobisz, to komputer się może zacinać,\n",
    "#bo nie odblokujesz sobie zasobów."
   ]
  },
  {
   "cell_type": "code",
   "execution_count": 31,
   "metadata": {},
   "outputs": [
    {
     "name": "stdout",
     "output_type": "stream",
     "text": [
      "b'helloworld'\n"
     ]
    }
   ],
   "source": [
    "#Popularna alternatywna konstrukcja inicjowania sesji - w bloku.\n",
    "with tf.Session() as sess:\n",
    "    result = sess.run(hello+world)\n",
    "    print(result)\n",
    "    #Więcej linijek kodu\n",
    "    #ale wszystkie zostaną wykonane w ramach tej sesji\n",
    "    #Tej konstrukcji nie trzeba zamykać sess.close()\n",
    "    #Zamyka się sama po wykonaniu ostatniego wyrażenia w bloku."
   ]
  },
  {
   "cell_type": "code",
   "execution_count": null,
   "metadata": {},
   "outputs": [],
   "source": []
  }
 ],
 "metadata": {
  "kernelspec": {
   "display_name": "Python 3",
   "language": "python",
   "name": "python3"
  },
  "language_info": {
   "codemirror_mode": {
    "name": "ipython",
    "version": 3
   },
   "file_extension": ".py",
   "mimetype": "text/x-python",
   "name": "python",
   "nbconvert_exporter": "python",
   "pygments_lexer": "ipython3",
   "version": "3.6.7"
  }
 },
 "nbformat": 4,
 "nbformat_minor": 2
}
