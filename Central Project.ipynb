{
 "cells": [
  {
   "cell_type": "code",
   "execution_count": 1,
   "metadata": {},
   "outputs": [],
   "source": [
    "import tensorflow as tf\n",
    "#Deklarujemy, że chcemy używać biblioteki TensorFlow i będziemy się do niej odwoływać pod skróconą nazwą \"tf\".\n",
    "#Here we call TensorFlow library in for later usage."
   ]
  },
  {
   "cell_type": "code",
   "execution_count": 2,
   "metadata": {},
   "outputs": [],
   "source": [
    "#ZMIENNA (inicjowanie)\n",
    "#Creates variable:\n",
    "zero = tf.Variable(0)\n",
    "#Co się tłumaczy: nazwa_zmiennej = tf.Variable(wartość_zmiennej). Pamiętaj o wielkim \"V\"."
   ]
  },
  {
   "cell_type": "code",
   "execution_count": 3,
   "metadata": {},
   "outputs": [],
   "source": [
    "#STAŁA (inicjowanie)\n",
    "#Creates constant:\n",
    "one = tf.constant(1)\n",
    "#Konstrukcja j.w. Stała, jak sama nazwa wskazuje, się nie zmienia, tak więc uważaj gdzie ich używasz..."
   ]
  },
  {
   "cell_type": "code",
   "execution_count": 4,
   "metadata": {},
   "outputs": [],
   "source": [
    "#SUMUJ (metoda)\n",
    "#adds variables, constants\n",
    "new_value = tf.add(zero,one)\n",
    "#W tym przykładzie zsumowaliśmy wartości zmiennej 'zero' i stałej 'jeden'."
   ]
  },
  {
   "cell_type": "code",
   "execution_count": 5,
   "metadata": {},
   "outputs": [],
   "source": [
    "#ZMIEŃ WARTOŚĆ (metoda)\n",
    "#assigns new wvlue to an existing variable.\n",
    "update = tf.assign(zero,new_value)\n",
    "#Dosłownie: nazwa_zmiennej = tf.assign(nazwa_zmiennej_której_wartość_zmieniamy,nowa_wartość). Tu zmienia wartość 'zera' na sumę \"zera\" i \"one\", czyli na 1."
   ]
  },
  {
   "cell_type": "code",
   "execution_count": 6,
   "metadata": {},
   "outputs": [],
   "source": [
    "#Pamiętaj, że Stałe nie podlegają zmianom. Kod, np.:\n",
    "#\"update_constant = tf.assign(one,new_value)\" wywali błąd."
   ]
  },
  {
   "cell_type": "code",
   "execution_count": 7,
   "metadata": {},
   "outputs": [],
   "source": [
    "#Zainicjalizuj_WSZYSTKIE_zmienne\n",
    "init_op = tf.global_variables_initializer()\n",
    "#Zawsze pamiętaj, żeby \"zainicjalizować wszystkie zmienne\"."
   ]
  },
  {
   "cell_type": "code",
   "execution_count": 8,
   "metadata": {},
   "outputs": [
    {
     "name": "stdout",
     "output_type": "stream",
     "text": [
      "0\n"
     ]
    }
   ],
   "source": [
    "#Definiujemy sesję TF.\n",
    "sess = tf.Session()\n",
    "#Inicjalizujemy zmienne w sesji.\n",
    "sess.run(init_op)\n",
    "#Drukuj stan elementu sesji (?)\n",
    "print(sess.run(zero))"
   ]
  },
  {
   "cell_type": "code",
   "execution_count": null,
   "metadata": {},
   "outputs": [],
   "source": []
  },
  {
   "cell_type": "code",
   "execution_count": null,
   "metadata": {},
   "outputs": [],
   "source": []
  },
  {
   "cell_type": "code",
   "execution_count": 9,
   "metadata": {
    "scrolled": false
   },
   "outputs": [
    {
     "name": "stdout",
     "output_type": "stream",
     "text": [
      "1\n",
      "2\n",
      "3\n",
      "4\n",
      "5\n"
     ]
    }
   ],
   "source": [
    "#FOR - PĘTLA\n",
    "#Przykład jak pisać pętle FOR.\n",
    "for _ in range(5):\n",
    "        sess.run(update)\n",
    "        print(sess.run(zero))\n",
    "#Ta pętla zapętli się 5 razy za każdym razem wypluwając update wartości funkcji."
   ]
  },
  {
   "cell_type": "code",
   "execution_count": null,
   "metadata": {},
   "outputs": [],
   "source": [
    "#Operacje na "
   ]
  }
 ],
 "metadata": {
  "kernelspec": {
   "display_name": "Python 3",
   "language": "python",
   "name": "python3"
  },
  "language_info": {
   "codemirror_mode": {
    "name": "ipython",
    "version": 3
   },
   "file_extension": ".py",
   "mimetype": "text/x-python",
   "name": "python",
   "nbconvert_exporter": "python",
   "pygments_lexer": "ipython3",
   "version": "3.6.7"
  }
 },
 "nbformat": 4,
 "nbformat_minor": 2
}
